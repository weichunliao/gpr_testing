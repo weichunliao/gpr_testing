{
 "cells": [
  {
   "cell_type": "code",
   "execution_count": 2,
   "metadata": {},
   "outputs": [],
   "source": [
    "import tables\n",
    "import csv\n",
    "import time\n",
    "import numpy as np"
   ]
  },
  {
   "cell_type": "code",
   "execution_count": 3,
   "metadata": {},
   "outputs": [],
   "source": [
    "class XDataTrain(tables.IsDescription):\n",
    "    day = tables.UInt8Col(pos=0)\n",
    "    hour = tables.UInt8Col(pos=1)\n",
    "    C1 = tables.UInt16Col(pos=2)\n",
    "    banner_pos = tables.UInt8Col(pos=3)\n",
    "    site_id = tables.StringCol(itemsize=8, pos=4) \n",
    "    site_domain = tables.StringCol(itemsize=8, pos=5)\n",
    "    site_category = tables.StringCol(itemsize=8, pos=6)\n",
    "    app_id = tables.StringCol(itemsize=8, pos=7)\n",
    "    app_domain = tables.StringCol(itemsize=8, pos=8)\n",
    "    app_category = tables.StringCol(itemsize=8, pos=9)\n",
    "    device_id = tables.StringCol(itemsize=8, pos=10)\n",
    "    device_ip = tables.StringCol(itemsize=8, pos=11)\n",
    "    device_model = tables.StringCol(itemsize=8, pos=12)\n",
    "    device_type = tables.UInt16Col(pos=13)\n",
    "    device_conn_type = tables.UInt8Col(pos=14)\n",
    "    C14 = tables.UInt16Col(pos=15)\n",
    "    C15 = tables.UInt16Col(pos=16)\n",
    "    C16 = tables.UInt16Col(pos=17)\n",
    "    C17 = tables.UInt16Col(pos=18)\n",
    "    C18 = tables.UInt8Col(pos=19)\n",
    "    C19 = tables.UInt16Col(pos=20)\n",
    "    C20 = tables.Int32Col(pos=21)\n",
    "    C21 = tables.UInt8Col(pos=22)"
   ]
  },
  {
   "cell_type": "code",
   "execution_count": 4,
   "metadata": {},
   "outputs": [],
   "source": [
    "class XDataTest(tables.IsDescription):\n",
    "    day = tables.UInt8Col(pos=0)\n",
    "    hour = tables.UInt8Col(pos=1)\n",
    "    C1 = tables.UInt16Col(pos=2)\n",
    "    banner_pos = tables.UInt8Col(pos=3)\n",
    "    site_id = tables.StringCol(itemsize=8, pos=4) \n",
    "    site_domain = tables.StringCol(itemsize=8, pos=5)\n",
    "    site_category = tables.StringCol(itemsize=8, pos=6)\n",
    "    app_id = tables.StringCol(itemsize=8, pos=7)\n",
    "    app_domain = tables.StringCol(itemsize=8, pos=8)\n",
    "    app_category = tables.StringCol(itemsize=8, pos=9)\n",
    "    device_id = tables.StringCol(itemsize=8, pos=10)\n",
    "    device_ip = tables.StringCol(itemsize=8, pos=11)\n",
    "    device_model = tables.StringCol(itemsize=8, pos=12)\n",
    "    device_type = tables.UInt16Col(pos=13)\n",
    "    device_conn_type = tables.UInt8Col(pos=14)\n",
    "    C14 = tables.UInt16Col(pos=15)\n",
    "    C15 = tables.UInt16Col(pos=16)\n",
    "    C16 = tables.UInt16Col(pos=17)\n",
    "    C17 = tables.UInt16Col(pos=18)\n",
    "    C18 = tables.UInt8Col(pos=19)\n",
    "    C19 = tables.UInt16Col(pos=20)\n",
    "    C20 = tables.Int32Col(pos=21)\n",
    "    C21 = tables.UInt8Col(pos=22)"
   ]
  },
  {
   "cell_type": "code",
   "execution_count": 5,
   "metadata": {},
   "outputs": [],
   "source": [
    "file_handler = tables.open_file(\"click_data.h5\", mode = \"w\", title = \"Click data\")"
   ]
  },
  {
   "cell_type": "code",
   "execution_count": 6,
   "metadata": {},
   "outputs": [],
   "source": [
    "root = file_handler.root\n",
    "train_group = file_handler.create_group(root, \"train\")\n",
    "test_group = file_handler.create_group(root, \"test\")\n"
   ]
  },
  {
   "cell_type": "code",
   "execution_count": 7,
   "metadata": {},
   "outputs": [],
   "source": [
    "train_raw_group = file_handler.create_group(train_group, \"train_raw\")\n",
    "test_raw_group = file_handler.create_group(test_group, \"test_raw\")"
   ]
  },
  {
   "cell_type": "code",
   "execution_count": 8,
   "metadata": {},
   "outputs": [
    {
     "ename": "AttributeError",
     "evalue": "'File' object has no attribute 'createEArray'",
     "output_type": "error",
     "traceback": [
      "\u001b[0;31m---------------------------------------------------------------------------\u001b[0m",
      "\u001b[0;31mAttributeError\u001b[0m                            Traceback (most recent call last)",
      "\u001b[0;32m<ipython-input-8-5a63287743b5>\u001b[0m in \u001b[0;36m<module>\u001b[0;34m()\u001b[0m\n\u001b[1;32m      2\u001b[0m \u001b[0my_atom\u001b[0m \u001b[0;34m=\u001b[0m \u001b[0mtables\u001b[0m\u001b[0;34m.\u001b[0m\u001b[0mUInt8Atom\u001b[0m\u001b[0;34m(\u001b[0m\u001b[0;34m)\u001b[0m\u001b[0;34m\u001b[0m\u001b[0m\n\u001b[1;32m      3\u001b[0m \u001b[0my_shape\u001b[0m \u001b[0;34m=\u001b[0m \u001b[0;34m(\u001b[0m\u001b[0;36m0\u001b[0m\u001b[0;34m,\u001b[0m\u001b[0;36m1\u001b[0m\u001b[0;34m)\u001b[0m\u001b[0;34m\u001b[0m\u001b[0m\n\u001b[0;32m----> 4\u001b[0;31m y_array = file_handler.createEArray(train_raw_group, 'y', atom=y_atom, shape=y_shape, \n\u001b[0m\u001b[1;32m      5\u001b[0m                                     title=\"targets\", filters=filters, expectedrows=40428967)\n",
      "\u001b[0;31mAttributeError\u001b[0m: 'File' object has no attribute 'createEArray'"
     ]
    }
   ],
   "source": [
    "filters = tables.Filters(complib='blosc', complevel=5)\n",
    "y_atom = tables.UInt8Atom()\n",
    "y_shape = (0,1)\n",
    "y_array = file_handler.create_earray(train_raw_group, 'y', atom=y_atom, shape=y_shape, \n",
    "                                    title=\"targets\", filters=filters, expectedrows=40428967)"
   ]
  },
  {
   "cell_type": "code",
   "execution_count": null,
   "metadata": {},
   "outputs": [],
   "source": [
    "train_table_X = file_handler.create_table(train_raw_group, \"X\", XDataTrain, expectedrows=40428967)\n",
    "test_table_X = file_handler.create_table(test_raw_group, \"X_t\", XDataTest, expectedrows=4577464)"
   ]
  },
  {
   "cell_type": "code",
   "execution_count": null,
   "metadata": {},
   "outputs": [],
   "source": []
  },
  {
   "cell_type": "code",
   "execution_count": null,
   "metadata": {},
   "outputs": [],
   "source": []
  },
  {
   "cell_type": "code",
   "execution_count": null,
   "metadata": {},
   "outputs": [],
   "source": []
  },
  {
   "cell_type": "code",
   "execution_count": null,
   "metadata": {},
   "outputs": [],
   "source": []
  },
  {
   "cell_type": "code",
   "execution_count": null,
   "metadata": {},
   "outputs": [],
   "source": []
  },
  {
   "cell_type": "code",
   "execution_count": null,
   "metadata": {},
   "outputs": [],
   "source": []
  }
 ],
 "metadata": {
  "kernelspec": {
   "display_name": "Python 3",
   "language": "python",
   "name": "python3"
  },
  "language_info": {
   "codemirror_mode": {
    "name": "ipython",
    "version": 3
   },
   "file_extension": ".py",
   "mimetype": "text/x-python",
   "name": "python",
   "nbconvert_exporter": "python",
   "pygments_lexer": "ipython3",
   "version": "3.5.2"
  }
 },
 "nbformat": 4,
 "nbformat_minor": 2
}
