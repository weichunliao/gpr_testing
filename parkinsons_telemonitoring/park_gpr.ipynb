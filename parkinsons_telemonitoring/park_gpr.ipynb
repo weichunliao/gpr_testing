{
 "cells": [
  {
   "cell_type": "code",
   "execution_count": 3,
   "metadata": {},
   "outputs": [],
   "source": [
    "import numpy as np\n",
    "import csv\n",
    "import GPy\n",
    "from matplotlib import pyplot as plt\n",
    "import pandas as pd\n",
    "import warnings\n",
    "warnings.simplefilter(\"error\", RuntimeWarning)"
   ]
  },
  {
   "cell_type": "code",
   "execution_count": 4,
   "metadata": {},
   "outputs": [],
   "source": [
    "def cnt_rmse(y, y_hat):\n",
    "    return np.sqrt(((y_hat.flatten()-y.flatten())**2).mean())"
   ]
  },
  {
   "cell_type": "code",
   "execution_count": 11,
   "metadata": {},
   "outputs": [
    {
     "name": "stdout",
     "output_type": "stream",
     "text": [
      "   subject#  age  sex  test_time  Jitter(%)  Jitter(Abs)  Jitter:RAP  \\\n",
      "0         1   72    0     5.6431    0.00662     0.000034     0.00401   \n",
      "1         1   72    0    12.6660    0.00300     0.000017     0.00132   \n",
      "2         1   72    0    19.6810    0.00481     0.000025     0.00205   \n",
      "3         1   72    0    25.6470    0.00528     0.000027     0.00191   \n",
      "4         1   72    0    33.6420    0.00335     0.000020     0.00093   \n",
      "\n",
      "   Jitter:PPQ5  Jitter:DDP  Shimmer  Shimmer(dB)  Shimmer:APQ3  Shimmer:APQ5  \\\n",
      "0      0.00317     0.01204  0.02565        0.230       0.01438       0.01309   \n",
      "1      0.00150     0.00395  0.02024        0.179       0.00994       0.01072   \n",
      "2      0.00208     0.00616  0.01675        0.181       0.00734       0.00844   \n",
      "3      0.00264     0.00573  0.02309        0.327       0.01106       0.01265   \n",
      "4      0.00130     0.00278  0.01703        0.176       0.00679       0.00929   \n",
      "\n",
      "   Shimmer:APQ11  Shimmer:DDA       NHR     HNR     RPDE      DFA      PPE  \n",
      "0        0.01662      0.04314  0.014290  21.640  0.41888  0.54842  0.16006  \n",
      "1        0.01689      0.02982  0.011112  27.183  0.43493  0.56477  0.10810  \n",
      "2        0.01458      0.02202  0.020220  23.047  0.46222  0.54405  0.21014  \n",
      "3        0.01963      0.03317  0.027837  24.445  0.48730  0.57794  0.33277  \n",
      "4        0.01819      0.02036  0.011625  26.126  0.47188  0.56122  0.19361  \n"
     ]
    },
    {
     "data": {
      "text/plain": [
       "0    28.199\n",
       "1    28.447\n",
       "2    28.695\n",
       "3    28.905\n",
       "4    29.187\n",
       "Name: motor_UPDRS, dtype: float64"
      ]
     },
     "execution_count": 11,
     "metadata": {},
     "output_type": "execute_result"
    }
   ],
   "source": [
    "fname = '/home/chun/Desktop/gpr_testing/parkinsons_telemonitoring/parkinsons_updrs.data'\n",
    "\n",
    "\n",
    "df = pd.read_csv(fname, header=0)\n",
    "X_df = df.drop(df.columns[[4,5]], axis=1)\n",
    "Y_df = df.iloc[:,4]\n",
    "\n",
    "print(X_df.head(5))\n",
    "Y_df.head(5)"
   ]
  },
  {
   "cell_type": "code",
   "execution_count": 16,
   "metadata": {},
   "outputs": [
    {
     "data": {
      "text/plain": [
       "(5875, 20)"
      ]
     },
     "execution_count": 16,
     "metadata": {},
     "output_type": "execute_result"
    }
   ],
   "source": [
    "X = X_df.values\n",
    "Y = np.reshape(Y_df.values, (len(X),1))\n",
    "X.shape"
   ]
  },
  {
   "cell_type": "code",
   "execution_count": 33,
   "metadata": {},
   "outputs": [
    {
     "name": "stdout",
     "output_type": "stream",
     "text": [
      "(587, 20)\n",
      "(2000, 20)\n",
      "(587, 20)\n",
      "(2000, 20)\n",
      "(587, 20)\n",
      "(2000, 20)\n",
      "(587, 20)\n",
      "(2000, 20)\n",
      "overflow encountered in expm1 1\n",
      "(587, 20)\n",
      "(2000, 20)\n",
      "overflow encountered in expm1 1\n",
      "(587, 20)\n",
      "(2000, 20)\n",
      "overflow encountered in expm1 1\n",
      "(587, 20)\n",
      "(2000, 20)\n",
      "overflow encountered in expm1 1\n",
      "(587, 20)\n",
      "(2000, 20)\n",
      "overflow encountered in expm1 1\n",
      "(587, 20)\n",
      "(2000, 20)\n",
      "overflow encountered in expm1 1\n",
      "(592, 20)\n",
      "(2000, 20)\n",
      "overflow encountered in expm1 1\n",
      "0.19753743344825084\n"
     ]
    }
   ],
   "source": [
    "kernel = GPy.kern.RBF(input_dim = 20, variance = 1., lengthscale = 1., ARD = True)\n",
    "# kernel = GPy.kern.RBF(input_dim = 20, variance = 1., lengthscale = 1.)\n",
    "optimize = True\n",
    "# optimize = False\n",
    "\n",
    "data_idx = np.arange(len(X))\n",
    "np.random.shuffle(data_idx)\n",
    "\n",
    "test_size = int(np.floor(X.shape[0]/10))\n",
    "split_idx = [test_size*i for i in range(1,10)]\n",
    "test_idx_list = np.split(data_idx, split_idx)\n",
    "\n",
    "train_size = 0\n",
    "train_size = 2000\n",
    "# train_size = 1000\n",
    "# train_size = 500\n",
    "# train_size = 300\n",
    "# train_size = 100\n",
    "\n",
    "err_list = []\n",
    "for test_idx in test_idx_list:\n",
    "    all_idx = np.arange(len(X))\n",
    "    tmp_train_idx = np.delete(all_idx, test_idx)\n",
    "    test_X = X[test_idx]\n",
    "    if train_size == 0:\n",
    "        new_train_idx = tmp_train_idx\n",
    "    else:\n",
    "        np.random.shuffle(tmp_train_idx)\n",
    "        new_train_idx = tmp_train_idx[:train_size]\n",
    "\n",
    "    new_X = X[new_train_idx]\n",
    "    print(test_X.shape)\n",
    "    print(new_X.shape)\n",
    "    \n",
    "    # normalize y \n",
    "    Y_mean = Y - Y[new_train_idx].mean()\n",
    "    test_y = Y_mean[test_idx]\n",
    "    new_y = Y_mean[new_train_idx]\n",
    "    \n",
    "    try:\n",
    "#         m = GPy.models.GPRegression(new_X, new_y, kernel, normalizer=True)\n",
    "        m = GPy.models.GPRegression(new_X, new_y, kernel, normalizer=False)\n",
    "    except RuntimeWarning as e:\n",
    "        print(e, '0')\n",
    "#         continue\n",
    "    if optimize:\n",
    "        try:\n",
    "            m.optimize(max_iters=50, optimizer=\"lbfgs\")\n",
    "    #         m.optimize(max_iters=100)\n",
    "        except RuntimeWarning as e:\n",
    "            print(e, '1')\n",
    "#             continue\n",
    "    try:\n",
    "        y_hat = m.predict(test_X)[0]\n",
    "    except RuntimeWarning as e:\n",
    "        print(e, '2')\n",
    "#         continue\n",
    "    try:\n",
    "        err = cnt_rmse(y_hat, test_y)\n",
    "    except RuntimeWarning as e:\n",
    "        print(e, '3')\n",
    "#         continue\n",
    "    \n",
    "    err_list.append(err)\n",
    "\n",
    "print(sum(err_list)/len(err_list))"
   ]
  },
  {
   "cell_type": "code",
   "execution_count": null,
   "metadata": {},
   "outputs": [],
   "source": []
  }
 ],
 "metadata": {
  "kernelspec": {
   "display_name": "Python 3",
   "language": "python",
   "name": "python3"
  },
  "language_info": {
   "codemirror_mode": {
    "name": "ipython",
    "version": 3
   },
   "file_extension": ".py",
   "mimetype": "text/x-python",
   "name": "python",
   "nbconvert_exporter": "python",
   "pygments_lexer": "ipython3",
   "version": "3.5.2"
  }
 },
 "nbformat": 4,
 "nbformat_minor": 2
}
