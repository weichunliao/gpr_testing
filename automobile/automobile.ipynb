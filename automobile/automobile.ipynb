{
 "cells": [
  {
   "cell_type": "code",
   "execution_count": 3,
   "metadata": {},
   "outputs": [],
   "source": [
    "import numpy as np\n",
    "import csv\n",
    "import GPy\n",
    "from matplotlib import pyplot as plt\n",
    "import pandas as pd\n",
    "import warnings\n",
    "warnings.simplefilter(\"error\", RuntimeWarning)\n",
    "# from sklearn.preprocessing import CategoricalEncoder\n",
    "# from sklearn.preprocessing import OneHotEncoder"
   ]
  },
  {
   "cell_type": "code",
   "execution_count": 4,
   "metadata": {},
   "outputs": [],
   "source": [
    "def cnt_rmse(y, y_hat):\n",
    "    return np.sqrt(((y_hat.flatten()-y.flatten())**2).mean())"
   ]
  },
  {
   "cell_type": "code",
   "execution_count": 5,
   "metadata": {},
   "outputs": [],
   "source": [
    "fname = '/home/chun/Desktop/gpr_testing/automobile/imports-85.data'\n",
    "\n",
    "headers = [\"symboling\", \"normalized_losses\", \"make\", \"fuel_type\", \"aspiration\",\n",
    "           \"num_doors\", \"body_style\", \"drive_wheels\", \"engine_location\",\n",
    "           \"wheel_base\", \"length\", \"width\", \"height\", \"curb_weight\",\n",
    "           \"engine_type\", \"num_cylinders\", \"engine_size\", \"fuel_system\",\n",
    "           \"bore\", \"stroke\", \"compression_ratio\", \"horsepower\", \"peak_rpm\",\n",
    "           \"city_mpg\", \"highway_mpg\", \"price\"]\n",
    "\n",
    "ds = pd.read_csv(fname, header=None, names=headers, na_values=\"?\")\n",
    "ds = ds.dropna()\n",
    "ds.dtypes\n",
    "obj_df = ds.select_dtypes(include=['object']).copy()\n",
    "float_df = ds.select_dtypes(include=['int64', 'float64']).copy()\n",
    "\n",
    "tmp = pd.get_dummies(obj_df)\n",
    "df =  pd.concat([tmp, float_df], axis=1)"
   ]
  },
  {
   "cell_type": "code",
   "execution_count": 6,
   "metadata": {},
   "outputs": [
    {
     "data": {
      "text/plain": [
       "array([[1.0000e+00, 0.0000e+00, 0.0000e+00, ..., 2.4000e+01, 3.0000e+01,\n",
       "        1.3950e+04],\n",
       "       [1.0000e+00, 0.0000e+00, 0.0000e+00, ..., 1.8000e+01, 2.2000e+01,\n",
       "        1.7450e+04],\n",
       "       [1.0000e+00, 0.0000e+00, 0.0000e+00, ..., 1.9000e+01, 2.5000e+01,\n",
       "        1.7710e+04],\n",
       "       ...,\n",
       "       [0.0000e+00, 0.0000e+00, 0.0000e+00, ..., 1.8000e+01, 2.3000e+01,\n",
       "        2.1485e+04],\n",
       "       [0.0000e+00, 0.0000e+00, 0.0000e+00, ..., 2.6000e+01, 2.7000e+01,\n",
       "        2.2470e+04],\n",
       "       [0.0000e+00, 0.0000e+00, 0.0000e+00, ..., 1.9000e+01, 2.5000e+01,\n",
       "        2.2625e+04]])"
      ]
     },
     "execution_count": 6,
     "metadata": {},
     "output_type": "execute_result"
    }
   ],
   "source": [
    "np_df = df.values\n",
    "np_df"
   ]
  },
  {
   "cell_type": "code",
   "execution_count": 7,
   "metadata": {},
   "outputs": [
    {
     "data": {
      "text/plain": [
       "(159, 64)"
      ]
     },
     "execution_count": 7,
     "metadata": {},
     "output_type": "execute_result"
    }
   ],
   "source": [
    "X = np_df[:,:-1]\n",
    "Y = np.reshape(np_df[:,-1], (len(np_df), 1))\n",
    "X.shape"
   ]
  },
  {
   "cell_type": "code",
   "execution_count": 25,
   "metadata": {},
   "outputs": [
    {
     "name": "stdout",
     "output_type": "stream",
     "text": [
      "overflow encountered in expm1 1\n",
      "overflow encountered in expm1 1\n",
      "overflow encountered in expm1 1\n",
      "overflow encountered in expm1 1\n",
      "overflow encountered in expm1 1\n",
      "overflow encountered in expm1 1\n",
      "overflow encountered in expm1 1\n",
      "overflow encountered in expm1 1\n",
      "overflow encountered in expm1 1\n",
      "5670.293066138708\n"
     ]
    }
   ],
   "source": [
    "kernel = GPy.kern.RBF(input_dim = 64, variance = 1., lengthscale = 1., ARD = True)\n",
    "# kernel = GPy.kern.RBF(input_dim = 64, variance = 1., lengthscale = 1.)\n",
    "optimize = True\n",
    "# optimize = False\n",
    "\n",
    "data_idx = np.arange(len(X))\n",
    "np.random.shuffle(data_idx)\n",
    "\n",
    "test_size = int(np.floor(X.shape[0]/10))\n",
    "split_idx = [test_size*i for i in range(1,10)]\n",
    "test_idx_list = np.split(data_idx, split_idx)\n",
    "\n",
    "train_size = 0\n",
    "train_size = 100\n",
    "train_size = 50\n",
    "\n",
    "err_list = []\n",
    "for test_idx in test_idx_list:\n",
    "    all_idx = np.arange(len(X))\n",
    "    tmp_train_idx = np.delete(all_idx, test_idx)\n",
    "    test_X = X[test_idx]\n",
    "    if train_size == 0:\n",
    "        new_train_idx = tmp_train_idx\n",
    "    else:\n",
    "        np.random.shuffle(tmp_train_idx)\n",
    "        new_train_idx = tmp_train_idx[:train_size]\n",
    "\n",
    "    new_X = X[new_train_idx]\n",
    "#     print(test_X.shape)\n",
    "#     print(new_X.shape)\n",
    "    \n",
    "    # normalize y \n",
    "    Y_mean = Y - Y[new_train_idx].mean()\n",
    "    test_y = Y_mean[test_idx]\n",
    "    new_y = Y_mean[new_train_idx]\n",
    "#     print(Y)\n",
    "#     Y = Y - Y[new_train_idx].mean()\n",
    "#     print(Y)\n",
    "#     test_y = Y[test_idx]\n",
    "#     new_y = Y[new_train_idx]\n",
    "    \n",
    "    try:\n",
    "#         m = GPy.models.GPRegression(new_X, new_y, kernel, normalizer=True)\n",
    "        m = GPy.models.GPRegression(new_X, new_y, kernel, normalizer=False)\n",
    "    except RuntimeWarning as e:\n",
    "        print(e, '0')\n",
    "#         continue\n",
    "    if optimize:\n",
    "        try:\n",
    "            m.optimize(max_iters=50, optimizer=\"lbfgs\")\n",
    "    #         m.optimize(max_iters=100)\n",
    "        except RuntimeWarning as e:\n",
    "            print(e, '1')\n",
    "#             continue\n",
    "    try:\n",
    "        y_hat = m.predict(test_X)[0]\n",
    "    except RuntimeWarning as e:\n",
    "        print(e, '2')\n",
    "#         continue\n",
    "    try:\n",
    "        err = cnt_rmse(y_hat, test_y)\n",
    "    except RuntimeWarning as e:\n",
    "        print(e, '3')\n",
    "#         continue\n",
    "    \n",
    "    err_list.append(err)\n",
    "\n",
    "print(sum(err_list)/len(err_list))"
   ]
  }
 ],
 "metadata": {
  "kernelspec": {
   "display_name": "Python 3",
   "language": "python",
   "name": "python3"
  },
  "language_info": {
   "codemirror_mode": {
    "name": "ipython",
    "version": 3
   },
   "file_extension": ".py",
   "mimetype": "text/x-python",
   "name": "python",
   "nbconvert_exporter": "python",
   "pygments_lexer": "ipython3",
   "version": "3.5.2"
  }
 },
 "nbformat": 4,
 "nbformat_minor": 2
}
