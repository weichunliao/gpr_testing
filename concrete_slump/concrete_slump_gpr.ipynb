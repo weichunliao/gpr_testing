{
 "cells": [
  {
   "cell_type": "code",
   "execution_count": 1,
   "metadata": {},
   "outputs": [],
   "source": [
    "import numpy as np\n",
    "import csv\n",
    "import GPy\n",
    "from matplotlib import pyplot as plt\n",
    "import pandas as pd\n",
    "import warnings\n",
    "warnings.simplefilter(\"error\", RuntimeWarning)"
   ]
  },
  {
   "cell_type": "code",
   "execution_count": 2,
   "metadata": {},
   "outputs": [],
   "source": [
    "def cnt_rmse(y, y_hat):\n",
    "    return np.sqrt(((y_hat.flatten()-y.flatten())**2).mean())"
   ]
  },
  {
   "cell_type": "code",
   "execution_count": 7,
   "metadata": {},
   "outputs": [
    {
     "data": {
      "text/html": [
       "<div>\n",
       "<style scoped>\n",
       "    .dataframe tbody tr th:only-of-type {\n",
       "        vertical-align: middle;\n",
       "    }\n",
       "\n",
       "    .dataframe tbody tr th {\n",
       "        vertical-align: top;\n",
       "    }\n",
       "\n",
       "    .dataframe thead th {\n",
       "        text-align: right;\n",
       "    }\n",
       "</style>\n",
       "<table border=\"1\" class=\"dataframe\">\n",
       "  <thead>\n",
       "    <tr style=\"text-align: right;\">\n",
       "      <th></th>\n",
       "      <th>Cement</th>\n",
       "      <th>Slag</th>\n",
       "      <th>Fly ash</th>\n",
       "      <th>Water</th>\n",
       "      <th>SP</th>\n",
       "      <th>Coarse Aggr.</th>\n",
       "      <th>Fine Aggr.</th>\n",
       "      <th>SLUMP(cm)</th>\n",
       "    </tr>\n",
       "  </thead>\n",
       "  <tbody>\n",
       "    <tr>\n",
       "      <th>0</th>\n",
       "      <td>273.0</td>\n",
       "      <td>82.0</td>\n",
       "      <td>105.0</td>\n",
       "      <td>210.0</td>\n",
       "      <td>9.0</td>\n",
       "      <td>904.0</td>\n",
       "      <td>680.0</td>\n",
       "      <td>23.0</td>\n",
       "    </tr>\n",
       "    <tr>\n",
       "      <th>1</th>\n",
       "      <td>163.0</td>\n",
       "      <td>149.0</td>\n",
       "      <td>191.0</td>\n",
       "      <td>180.0</td>\n",
       "      <td>12.0</td>\n",
       "      <td>843.0</td>\n",
       "      <td>746.0</td>\n",
       "      <td>0.0</td>\n",
       "    </tr>\n",
       "    <tr>\n",
       "      <th>2</th>\n",
       "      <td>162.0</td>\n",
       "      <td>148.0</td>\n",
       "      <td>191.0</td>\n",
       "      <td>179.0</td>\n",
       "      <td>16.0</td>\n",
       "      <td>840.0</td>\n",
       "      <td>743.0</td>\n",
       "      <td>1.0</td>\n",
       "    </tr>\n",
       "    <tr>\n",
       "      <th>3</th>\n",
       "      <td>162.0</td>\n",
       "      <td>148.0</td>\n",
       "      <td>190.0</td>\n",
       "      <td>179.0</td>\n",
       "      <td>19.0</td>\n",
       "      <td>838.0</td>\n",
       "      <td>741.0</td>\n",
       "      <td>3.0</td>\n",
       "    </tr>\n",
       "    <tr>\n",
       "      <th>4</th>\n",
       "      <td>154.0</td>\n",
       "      <td>112.0</td>\n",
       "      <td>144.0</td>\n",
       "      <td>220.0</td>\n",
       "      <td>10.0</td>\n",
       "      <td>923.0</td>\n",
       "      <td>658.0</td>\n",
       "      <td>20.0</td>\n",
       "    </tr>\n",
       "  </tbody>\n",
       "</table>\n",
       "</div>"
      ],
      "text/plain": [
       "   Cement   Slag  Fly ash  Water    SP  Coarse Aggr.  Fine Aggr.  SLUMP(cm)\n",
       "0   273.0   82.0    105.0  210.0   9.0         904.0       680.0       23.0\n",
       "1   163.0  149.0    191.0  180.0  12.0         843.0       746.0        0.0\n",
       "2   162.0  148.0    191.0  179.0  16.0         840.0       743.0        1.0\n",
       "3   162.0  148.0    190.0  179.0  19.0         838.0       741.0        3.0\n",
       "4   154.0  112.0    144.0  220.0  10.0         923.0       658.0       20.0"
      ]
     },
     "execution_count": 7,
     "metadata": {},
     "output_type": "execute_result"
    }
   ],
   "source": [
    "fname = '/home/chun/Desktop/gpr_testing/concrete_slump/slump_test.data'\n",
    "\n",
    "\n",
    "df = pd.read_csv(fname, header=0)\n",
    "tmp = df.drop(df.columns[[0,9,10]], axis=1)\n",
    "\n",
    "tmp.head(5)"
   ]
  },
  {
   "cell_type": "code",
   "execution_count": 4,
   "metadata": {},
   "outputs": [],
   "source": [
    "np_df = tmp.values"
   ]
  },
  {
   "cell_type": "code",
   "execution_count": 5,
   "metadata": {},
   "outputs": [
    {
     "data": {
      "text/plain": [
       "(103, 7)"
      ]
     },
     "execution_count": 5,
     "metadata": {},
     "output_type": "execute_result"
    }
   ],
   "source": [
    "X = np_df[:,:-1]\n",
    "Y = np.reshape(np_df[:,-1], (len(np_df), 1))\n",
    "X.shape"
   ]
  },
  {
   "cell_type": "code",
   "execution_count": 82,
   "metadata": {},
   "outputs": [
    {
     "name": "stdout",
     "output_type": "stream",
     "text": [
      "8.537104943048647\n"
     ]
    }
   ],
   "source": [
    "kernel = GPy.kern.RBF(input_dim = 7, variance = 1., lengthscale = 1., ARD = True)\n",
    "# kernel = GPy.kern.RBF(input_dim = 7, variance = 1., lengthscale = 1.)\n",
    "optimize = True\n",
    "# optimize = False\n",
    "\n",
    "data_idx = np.arange(len(X))\n",
    "np.random.shuffle(data_idx)\n",
    "\n",
    "test_size = int(np.floor(X.shape[0]/10))\n",
    "split_idx = [test_size*i for i in range(1,10)]\n",
    "test_idx_list = np.split(data_idx, split_idx)\n",
    "\n",
    "train_size = 0\n",
    "train_size = 50\n",
    "\n",
    "err_list = []\n",
    "for test_idx in test_idx_list:\n",
    "    all_idx = np.arange(len(X))\n",
    "    tmp_train_idx = np.delete(all_idx, test_idx)\n",
    "    test_X = X[test_idx]\n",
    "    if train_size == 0:\n",
    "        new_train_idx = tmp_train_idx\n",
    "    else:\n",
    "        np.random.shuffle(tmp_train_idx)\n",
    "        new_train_idx = tmp_train_idx[:train_size]\n",
    "\n",
    "    new_X = X[new_train_idx]\n",
    "#     print(test_X.shape)\n",
    "#     print(new_X.shape)\n",
    "    \n",
    "    # normalize y \n",
    "    Y_mean = Y - Y[new_train_idx].mean()\n",
    "    test_y = Y_mean[test_idx]\n",
    "    new_y = Y_mean[new_train_idx]\n",
    "#     print(Y)\n",
    "#     Y = Y - Y[new_train_idx].mean()\n",
    "#     print(Y)\n",
    "#     test_y = Y[test_idx]\n",
    "#     new_y = Y[new_train_idx]\n",
    "    \n",
    "    try:\n",
    "#         m = GPy.models.GPRegression(new_X, new_y, kernel, normalizer=True)\n",
    "        m = GPy.models.GPRegression(new_X, new_y, kernel, normalizer=False)\n",
    "    except RuntimeWarning as e:\n",
    "        print(e, '0')\n",
    "#         continue\n",
    "    if optimize:\n",
    "        try:\n",
    "            m.optimize(max_iters=50, optimizer=\"lbfgs\")\n",
    "    #         m.optimize(max_iters=100)\n",
    "        except RuntimeWarning as e:\n",
    "            print(e, '1')\n",
    "#             continue\n",
    "    try:\n",
    "        y_hat = m.predict(test_X)[0]\n",
    "    except RuntimeWarning as e:\n",
    "        print(e, '2')\n",
    "#         continue\n",
    "    try:\n",
    "        err = cnt_rmse(y_hat, test_y)\n",
    "    except RuntimeWarning as e:\n",
    "        print(e, '3')\n",
    "#         continue\n",
    "    \n",
    "    err_list.append(err)\n",
    "\n",
    "print(sum(err_list)/len(err_list))"
   ]
  },
  {
   "cell_type": "code",
   "execution_count": null,
   "metadata": {},
   "outputs": [],
   "source": [
    "print(err_list)"
   ]
  },
  {
   "cell_type": "code",
   "execution_count": null,
   "metadata": {},
   "outputs": [],
   "source": [
    "p = np.arange(101)\n",
    "test_size = int(np.floor(len(p)/10))\n",
    "split_idx = [test_size*i for i in range(1,10)]\n",
    "print(split_idx)\n",
    "i_test_idx = np.split(p, split_idx)\n",
    "print(len(i_test_idx), '\\n')\n",
    "for idx in i_test_idx:\n",
    "    print(len(idx))\n",
    "    \n",
    "a = np.array([1,2,3,4,5])\n",
    "print(np.delete(a, [1,2,3]))\n",
    "a"
   ]
  }
 ],
 "metadata": {
  "kernelspec": {
   "display_name": "Python 3",
   "language": "python",
   "name": "python3"
  },
  "language_info": {
   "codemirror_mode": {
    "name": "ipython",
    "version": 3
   },
   "file_extension": ".py",
   "mimetype": "text/x-python",
   "name": "python",
   "nbconvert_exporter": "python",
   "pygments_lexer": "ipython3",
   "version": "3.5.2"
  }
 },
 "nbformat": 4,
 "nbformat_minor": 2
}
