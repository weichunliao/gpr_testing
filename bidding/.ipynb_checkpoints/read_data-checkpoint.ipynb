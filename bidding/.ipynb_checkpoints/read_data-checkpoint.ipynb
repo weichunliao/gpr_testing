{
 "cells": [
  {
   "cell_type": "code",
   "execution_count": 1,
   "metadata": {},
   "outputs": [],
   "source": [
    "import numpy as np\n",
    "import pandas as pd\n",
    "import datetime\n",
    "import time\n",
    "import csv\n",
    "from tqdm import tqdm\n",
    "import os\n",
    "from collections import Counter\n",
    "import pickle\n",
    "import sys\n",
    "import getopt\n",
    "from ua_parser import user_agent_parser\n"
   ]
  },
  {
   "cell_type": "code",
   "execution_count": 2,
   "metadata": {},
   "outputs": [],
   "source": [
    "dtype = {'bid id': str,\n",
    "         'timestamp': str,\n",
    "         'log type': str,\n",
    "         'ipinyou id': str,\n",
    "         'user-agent': str,\n",
    "         'ip':str,\n",
    "         'region id':str,\n",
    "         'city id':str,\n",
    "         'ad exchange':str,\n",
    "         'domain':str,\n",
    "         'url':str,\n",
    "         'anonymous url':str,\n",
    "         'ad slot id':str,\n",
    "         'ad slot width':float,\n",
    "         'ad slot height':float,\n",
    "         'ad slot visibility':str,\n",
    "         'ad slot format':str,\n",
    "         'ad slot floor price':float,\n",
    "         'creative id':str,\n",
    "         'bidding price':float,\n",
    "         'paying price':float,\n",
    "         'landing page url':str,\n",
    "         'advertiser id':str,\n",
    "         'user profile ids':str\n",
    "}"
   ]
  },
  {
   "cell_type": "code",
   "execution_count": 4,
   "metadata": {},
   "outputs": [],
   "source": [
    "regions = []\n",
    "with open('./ipinyou.contest.dataset/region.cn.txt','r') as f:\n",
    "    reader = csv.reader(f, delimiter='\\t')\n",
    "    for row in reader:\n",
    "        regions.append(row[0])\n",
    "cities = []\n",
    "with open('./ipinyou.contest.dataset/city.cn.txt','r') as f:\n",
    "    reader = csv.reader(f, delimiter='\\t')\n",
    "    for row in reader:\n",
    "        cities.append(row[0])"
   ]
  },
  {
   "cell_type": "code",
   "execution_count": 5,
   "metadata": {},
   "outputs": [],
   "source": [
    "def preprocess_time(ts):\n",
    "    ts = str(ts)\n",
    "    year = int(ts[0:4])\n",
    "    month = int(ts[4:6])\n",
    "    day = int(ts[6:8])\n",
    "    weekday = datetime.date(year, month, day).weekday()\n",
    "    hour = int(ts[8:10])\n",
    "    minute = int(ts[10:12])\n",
    "    sec = int(ts[12:14])\n",
    "    daysec =  hour * 3600 + minute * 60 + sec\n",
    "    return weekday, daysec\n",
    "\n",
    "def preprocess(imps):\n",
    "    imps = imps.drop_duplicates(subset='bid id',keep='last')\n",
    "    # remove region and city not seen\n",
    "    imps = imps[imps['region id'].isin(regions)]\n",
    "    imps = imps[imps['city id'].isin(cities)]\n",
    "\n",
    "    # remove user-agent null\n",
    "    imps = imps[~imps['user-agent'].isnull()]\n",
    "\n",
    "    # preprocess user agent\n",
    "    parsed_ua = imps['user-agent'].apply(user_agent_parser.Parse)\n",
    "    imps['ua os'] = parsed_ua.apply(lambda x: x['os']['family'])\n",
    "    imps['ua browser'] = parsed_ua.apply(lambda x: x['user_agent']['family'])\n",
    "\n",
    "    # parse time stamp into two column\n",
    "    imps['week day'], imps['sec in day'] = zip(*imps['timestamp'].map(preprocess_time))\n",
    "\n",
    "    # transform numeric data to float\n",
    "    imps['ad slot width'] = imps['ad slot width'].astype('float32')\n",
    "    imps['ad slot height'] = imps['ad slot height'].astype('float32')\n",
    "    imps['ad slot floor price'] = imps['ad slot floor price'].astype('float32')\n",
    "    imps['paying price'] = imps['paying price'].astype('float32')\n",
    "    imps['sec in day'] = imps['sec in day'].astype('float32')\n",
    "    imps['bidding price'] = imps['bidding price'].astype('float32')\n",
    "\n",
    "    # save to pickle\n",
    "    imps = imps[imps['paying price'] != 0]\n",
    "    return imps\n"
   ]
  },
  {
   "cell_type": "code",
   "execution_count": 6,
   "metadata": {},
   "outputs": [
    {
     "name": "stdout",
     "output_type": "stream",
     "text": [
      "option -f not recognized\n",
      "Usage: /home/chun/py/py3env/lib/python3.5/site-packages/ipykernel_launcher.py -i input data root -o output path\n"
     ]
    },
    {
     "ename": "SystemExit",
     "evalue": "2",
     "output_type": "error",
     "traceback": [
      "An exception has occurred, use %tb to see the full traceback.\n",
      "\u001b[0;31mSystemExit\u001b[0m\u001b[0;31m:\u001b[0m 2\n"
     ]
    },
    {
     "name": "stderr",
     "output_type": "stream",
     "text": [
      "/home/chun/py/py3env/lib/python3.5/site-packages/IPython/core/interactiveshell.py:2918: UserWarning: To exit: use 'exit', 'quit', or Ctrl-D.\n",
      "  warn(\"To exit: use 'exit', 'quit', or Ctrl-D.\", stacklevel=1)\n"
     ]
    }
   ],
   "source": [
    "if __name__ == '__main__':\n",
    "    # get parameter in command line\n",
    "    try:\n",
    "        myopts, args = getopt.getopt(sys.argv[1:],\"i:o:\")\n",
    "    except getopt.GetoptError as e:\n",
    "        print (str(e))\n",
    "        print(\"Usage: %s -i input data root -o output path\" % sys.argv[0])\n",
    "        sys.exit(2)\n",
    "\n",
    "    root_dir = ''\n",
    "    output_dir = ''\n",
    "    for o, a in myopts:\n",
    "        if o == '-i':\n",
    "            if a[-1] != '/':\n",
    "                print('path should end with /')\n",
    "                sys.exit(2)\n",
    "            root_dir=a\n",
    "        elif o == '-o':\n",
    "            if a[-1] != '/':\n",
    "                print('path should end with /')\n",
    "                sys.exit(2)\n",
    "            output_dir=a\n",
    "\n",
    "    os.mkdir(output_dir)\n",
    "    # load input data\n",
    "    print('loading data...')\n",
    "    file_names = os.listdir(root_dir)\n",
    "    imp_file_names = sorted([f for f in file_names if f[:3]=='imp'])\n",
    "    l = []\n",
    "    for fname in tqdm(imp_file_names):\n",
    "        # date = fname[3:-4]\n",
    "        imps = pd.read_csv(root_dir+fname,dtype=dtype)\n",
    "        imps = preprocess(imps)\n",
    "        imps.to_csv(output_dir+fname, index=False)\n",
    "        l.append(imps)\n",
    "    bids =  pd.concat(l)\n",
    "    bids.to_csv(root_dir+'allbid.csv', index=False)\n"
   ]
  },
  {
   "cell_type": "code",
   "execution_count": null,
   "metadata": {},
   "outputs": [],
   "source": []
  }
 ],
 "metadata": {
  "kernelspec": {
   "display_name": "Python 3",
   "language": "python",
   "name": "python3"
  },
  "language_info": {
   "codemirror_mode": {
    "name": "ipython",
    "version": 3
   },
   "file_extension": ".py",
   "mimetype": "text/x-python",
   "name": "python",
   "nbconvert_exporter": "python",
   "pygments_lexer": "ipython3",
   "version": "3.5.2"
  }
 },
 "nbformat": 4,
 "nbformat_minor": 2
}
