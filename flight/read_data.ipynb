{
 "cells": [
  {
   "cell_type": "code",
   "execution_count": 1,
   "metadata": {},
   "outputs": [],
   "source": [
    "import pandas as pd\n",
    "import os"
   ]
  },
  {
   "cell_type": "code",
   "execution_count": 78,
   "metadata": {},
   "outputs": [
    {
     "name": "stderr",
     "output_type": "stream",
     "text": [
      "/home/chun/py/py3env/lib/python3.5/site-packages/IPython/core/interactiveshell.py:2850: DtypeWarning: Columns (7,8) have mixed types. Specify dtype option on import or set low_memory=False.\n",
      "  if self.run_code(code, result):\n"
     ]
    }
   ],
   "source": [
    "def format_heure(chaine):\n",
    "    if pd.isnull(chaine):\n",
    "        return np.nan\n",
    "    else:\n",
    "        if chaine == 2400: chaine = 0\n",
    "        chaine = \"{0:04d}\".format(int(chaine))\n",
    "        heure = datetime.time(int(chaine[0:2]), int(chaine[2:4]))\n",
    "        return heure\n",
    "def create_flight_time(df, col):    \n",
    "    liste = []\n",
    "    for cols in df[col]:\n",
    "        if pd.isnull(cols):\n",
    "            liste.append(np.nan)\n",
    "        elif float(cols) == 2400:\n",
    "            cols = datetime.time(0,0)\n",
    "            liste.append(cols)\n",
    "        else:\n",
    "            cols = format_heure(cols)\n",
    "            liste.append(cols)\n",
    "    return pd.Series(liste)\n",
    "\n",
    "def concatenate():\n",
    "\n",
    "    # load csv file containing the airport information\n",
    "    airport_df = pd.read_csv(\"./airports.csv\")\n",
    "\n",
    "    #load csv file containing the flight delay information. this will be the main dataframe\n",
    "    flights_df =  pd.read_csv('/home/chun/Desktop/gpr_testing/flight/flights.csv')\n",
    "    main_df = flights_df\n",
    "    # combine these, so that the main dataframe has latitude longitude information\n",
    "    airport_df = airport_df.set_index(\"IATA_CODE\")\n",
    "    for loc in ['ORIGIN','DESTINATION']:\n",
    "        for dir in ['LATITUDE','LONGITUDE']:\n",
    "            main_df[loc+'_'+dir] =(airport_df[dir][flights_df[loc+\"_AIRPORT\"][:]]).reset_index()[[dir]]\n",
    "#     main_df.to_csv(\"{}.txt\".format('processed'))\n",
    "\n",
    "    main_df['SCHEDULED_DEPARTURE'] = create_flight_time(main_df, 'SCHEDULED_DEPARTURE')\n",
    "    main_df['SCHEDULED_HOUR']=pd.to_datetime(main_df['SCHEDULED_DEPARTURE'], format='%H:%M:%S').dt.hour\n",
    "    airline_dummy = pd.get_dummies(main_df['AIRLINE'])\n",
    "    main_df = main_df.merge(airline_dummy, left_index=True, right_index=True)\n",
    "    variables_to_remove = ['YEAR', 'DAY', 'AIRLINE', 'FLIGHT_NUMBER',\n",
    "       'TAIL_NUMBER', 'ORIGIN_AIRPORT', 'DESTINATION_AIRPORT',\n",
    "       'SCHEDULED_DEPARTURE', 'DEPARTURE_TIME', 'TAXI_OUT',\n",
    "       'WHEELS_OFF', 'SCHEDULED_TIME', 'ELAPSED_TIME', 'AIR_TIME', \n",
    "       'WHEELS_ON', 'TAXI_IN', 'SCHEDULED_ARRIVAL', 'ARRIVAL_TIME',\n",
    "       'DIVERTED', 'CANCELLED', 'CANCELLATION_REASON',\n",
    "       'AIR_SYSTEM_DELAY', 'SECURITY_DELAY', 'AIRLINE_DELAY',\n",
    "       'LATE_AIRCRAFT_DELAY', 'WEATHER_DELAY']\n",
    "    main_df.drop(variables_to_remove, axis = 1, inplace = True)\n",
    "    main_df.dropna(inplace = True)\n",
    "\n",
    "    return main_df\n"
   ]
  },
  {
   "cell_type": "code",
   "execution_count": null,
   "metadata": {},
   "outputs": [],
   "source": [
    "if __name__ == \"__main__\":\n",
    "    main_df = concatenate()\n",
    "    main_df.to_csv(\"{}.txt\".format('processed'))"
   ]
  }
 ],
 "metadata": {
  "kernelspec": {
   "display_name": "Python 3",
   "language": "python",
   "name": "python3"
  },
  "language_info": {
   "codemirror_mode": {
    "name": "ipython",
    "version": 3
   },
   "file_extension": ".py",
   "mimetype": "text/x-python",
   "name": "python",
   "nbconvert_exporter": "python",
   "pygments_lexer": "ipython3",
   "version": "3.5.2"
  }
 },
 "nbformat": 4,
 "nbformat_minor": 2
}
