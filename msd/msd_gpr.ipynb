{
 "cells": [
  {
   "cell_type": "code",
   "execution_count": null,
   "metadata": {},
   "outputs": [],
   "source": [
    "import numpy as np\n",
    "import csv\n",
    "import GPy\n",
    "from matplotlib import pyplot as plt\n",
    "import pandas as pd\n",
    "import warnings\n",
    "warnings.simplefilter(\"error\", RuntimeWarning)"
   ]
  },
  {
   "cell_type": "code",
   "execution_count": null,
   "metadata": {},
   "outputs": [],
   "source": [
    "def cnt_rmse(y, y_hat):\n",
    "    return np.sqrt(((y_hat.flatten()-y.flatten())**2).mean())"
   ]
  },
  {
   "cell_type": "code",
   "execution_count": null,
   "metadata": {},
   "outputs": [],
   "source": [
    "fname = '/home/chun/Desktop/gpr_testing/msd/YearPredictionMSD.txt'\n",
    "\n",
    "\n",
    "df = pd.read_csv(fname, header=None)\n",
    "\n",
    "df.head(5)"
   ]
  },
  {
   "cell_type": "code",
   "execution_count": null,
   "metadata": {},
   "outputs": [],
   "source": [
    "X = df.iloc[:,1:].values\n",
    "train_X = X[:463715]\n",
    "test_X = X[463715:]\n",
    "\n",
    "Y = np.reshape(df.iloc[:,0].values, (len(X),1))\n",
    "train_Y = Y[:463715]\n",
    "test_Y = Y[463715:]\n",
    "\n",
    "print(train_X.shape, test_X.shape, train_Y.shape, test_Y.shape)"
   ]
  },
  {
   "cell_type": "code",
   "execution_count": null,
   "metadata": {},
   "outputs": [],
   "source": [
    "kernel = GPy.kern.RBF(input_dim = 90, variance = 1., lengthscale = 1., ARD = True)\n",
    "# kernel = GPy.kern.RBF(input_dim = 90, variance = 1., lengthscale = 1.)\n",
    "optimize = True\n",
    "# optimize = False\n",
    "\n",
    "# train_size = 0\n",
    "train_size = 5000\n",
    "# train_size = 4000\n",
    "# train_size = 3000\n",
    "# train_size = 2000\n",
    "# train_size = 1000\n",
    "# train_size = 500\n",
    "# train_size = 300\n",
    "# train_size = 100\n",
    "\n",
    "data_idx = np.arange(len(train_X))\n",
    "\n",
    "err_list = []\n",
    "for _ in range(10):\n",
    "\n",
    "    # sample new_X\n",
    "    if train_size == 0:\n",
    "        new_train_idx = data_idx\n",
    "    else:\n",
    "        np.random.shuffle(data_idx)\n",
    "        new_train_idx = data_idx[:train_size]\n",
    "\n",
    "    new_X = X[new_train_idx]\n",
    "#     print(test_X.shape)\n",
    "    print(new_X.shape)\n",
    "\n",
    "    # normalize y \n",
    "    Y_mean = Y - Y[new_train_idx].mean()\n",
    "    test_y = Y_mean[463715:]\n",
    "    new_y = Y_mean[new_train_idx]\n",
    "#     print(test_y.shape)\n",
    "#     print(new_y.shape)\n",
    "\n",
    "    try:\n",
    "    #         m = GPy.models.GPRegression(new_X, new_y, kernel, normalizer=True)\n",
    "        m = GPy.models.GPRegression(new_X, new_y, kernel, normalizer=False)\n",
    "    except RuntimeWarning as e:\n",
    "        print(e, '0')\n",
    "    #         continue\n",
    "    if optimize:\n",
    "        try:\n",
    "            m.optimize(max_iters=100, optimizer=\"lbfgs\")\n",
    "    #         m.optimize(max_iters=100)\n",
    "        except RuntimeWarning as e:\n",
    "            print(e, '1')\n",
    "    #             continue\n",
    "    try:\n",
    "        y_hat = m.predict(test_X)[0]\n",
    "    except RuntimeWarning as e:\n",
    "        print(e, '2')\n",
    "    #         continue\n",
    "    try:\n",
    "        err = cnt_rmse(y_hat, test_y)\n",
    "    except RuntimeWarning as e:\n",
    "        print(e, '3')\n",
    "    #         continue\n",
    "\n",
    "    err_list.append(err)\n",
    "\n",
    "print(sum(err_list)/len(err_list))\n"
   ]
  }
 ],
 "metadata": {
  "kernelspec": {
   "display_name": "Python 3",
   "language": "python",
   "name": "python3"
  },
  "language_info": {
   "codemirror_mode": {
    "name": "ipython",
    "version": 3
   },
   "file_extension": ".py",
   "mimetype": "text/x-python",
   "name": "python",
   "nbconvert_exporter": "python",
   "pygments_lexer": "ipython3",
   "version": "3.5.2"
  }
 },
 "nbformat": 4,
 "nbformat_minor": 2
}
