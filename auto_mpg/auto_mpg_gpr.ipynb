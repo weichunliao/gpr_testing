{
 "cells": [
  {
   "cell_type": "code",
   "execution_count": 8,
   "metadata": {},
   "outputs": [],
   "source": [
    "import numpy as np\n",
    "import csv\n",
    "import GPy\n",
    "from matplotlib import pyplot as plt\n",
    "import pandas as pd\n",
    "import warnings\n",
    "warnings.simplefilter(\"error\", RuntimeWarning)"
   ]
  },
  {
   "cell_type": "code",
   "execution_count": 3,
   "metadata": {},
   "outputs": [],
   "source": [
    "def cnt_rmse(y, y_hat):\n",
    "    return np.sqrt(((y_hat.flatten()-y.flatten())**2).mean())"
   ]
  },
  {
   "cell_type": "code",
   "execution_count": 4,
   "metadata": {},
   "outputs": [
    {
     "data": {
      "text/plain": [
       "(392, 7)"
      ]
     },
     "execution_count": 4,
     "metadata": {},
     "output_type": "execute_result"
    }
   ],
   "source": [
    "def load_data(fname = '/home/chun/Desktop/gpr_testing/auto_mpg/auto-mpg.csv'):\n",
    "    X, Y = [], []\n",
    "    with open(fname, 'r') as f:\n",
    "        next(f)\n",
    "        for line in f:\n",
    "            d = line.split(',')\n",
    "            try:\n",
    "                X.append([float(a) for a in d[1:8]])\n",
    "#                 X.append([float(d[1])])\n",
    "                Y.append([float(d[0])])\n",
    "            except Exception as e:\n",
    "#                 print(e)\n",
    "                continue\n",
    "                \n",
    "    return np.array(X), np.array(Y)\n",
    "\n",
    "X, Y = load_data()\n",
    "X.shape"
   ]
  },
  {
   "cell_type": "code",
   "execution_count": 5,
   "metadata": {},
   "outputs": [
    {
     "name": "stdout",
     "output_type": "stream",
     "text": [
      "Running L-BFGS-B (Scipy implementation) Code:\n",
      "  runtime   i    f              |g|        \n",
      "    00s01  01   5.970649e+04   6.959994e+08 \n",
      "    00s10  09   5.494396e+03   5.729330e+04 \n",
      "    00s19  15   1.326102e+03   2.072325e+01 \n",
      "    00s59  52   1.027382e+03   6.915345e-02 \n",
      "Runtime:     00s59\n",
      "Optimization status: Maximum number of f evaluations reached\n",
      "\n"
     ]
    }
   ],
   "source": [
    "# kernel = GPy.kern.RBF(input_dim=1, variance = 1., lengthscale= 1.)\n",
    "kernel = GPy.kern.RBF(input_dim=7, variance = 1., lengthscale= 1.)\n",
    "\n",
    "m = GPy.models.GPRegression(X, Y, kernel)\n",
    "m.optimize(max_iters=50, messages=True)\n",
    "y_hat = m.predict(X[:5,:])[0]"
   ]
  },
  {
   "cell_type": "code",
   "execution_count": 24,
   "metadata": {},
   "outputs": [
    {
     "name": "stdout",
     "output_type": "stream",
     "text": [
      "7.970906457781211\n"
     ]
    }
   ],
   "source": [
    "kernel = GPy.kern.RBF(input_dim = 7, variance = 1., lengthscale = 1., ARD = True)\n",
    "# kernel = GPy.kern.RBF(input_dim = 7, variance = 1., lengthscale = 1.)\n",
    "optimize = True\n",
    "# optimize = False\n",
    "\n",
    "data_idx = np.arange(len(X))\n",
    "np.random.shuffle(data_idx)\n",
    "\n",
    "test_size = int(np.floor(X.shape[0]/10))\n",
    "split_idx = [test_size*i for i in range(1,10)]\n",
    "test_idx_list = np.split(data_idx, split_idx)\n",
    "\n",
    "train_size = 0\n",
    "# train_size = 150\n",
    "train_size = 50\n",
    "\n",
    "err_list = []\n",
    "for test_idx in test_idx_list:\n",
    "    all_idx = np.arange(len(X))\n",
    "    tmp_train_idx = np.delete(all_idx, test_idx)\n",
    "    test_X = X[test_idx]\n",
    "    if train_size == 0:\n",
    "        new_train_idx = tmp_train_idx\n",
    "    else:\n",
    "        np.random.shuffle(tmp_train_idx)\n",
    "        new_train_idx = tmp_train_idx[:train_size]\n",
    "\n",
    "    new_X = X[new_train_idx]\n",
    "#     print(test_X.shape)\n",
    "#     print(new_X.shape)\n",
    "    \n",
    "    # normalize y \n",
    "    Y_mean = Y - Y[new_train_idx].mean()\n",
    "    test_y = Y_mean[test_idx]\n",
    "    new_y = Y_mean[new_train_idx]\n",
    "    \n",
    "    try:\n",
    "#         m = GPy.models.GPRegression(new_X, new_y, kernel, normalizer=True)\n",
    "        m = GPy.models.GPRegression(new_X, new_y, kernel, normalizer=False)\n",
    "    except RuntimeWarning as e:\n",
    "        print(e, '0')\n",
    "#         continue\n",
    "    if optimize:\n",
    "        try:\n",
    "            m.optimize(max_iters=50, optimizer=\"lbfgs\")\n",
    "    #         m.optimize(max_iters=100)\n",
    "        except RuntimeWarning as e:\n",
    "            print(e, '1')\n",
    "#             continue\n",
    "    try:\n",
    "        y_hat = m.predict(test_X)[0]\n",
    "    except RuntimeWarning as e:\n",
    "        print(e, '2')\n",
    "#         continue\n",
    "    try:\n",
    "        err = cnt_rmse(y_hat, test_y)\n",
    "    except RuntimeWarning as e:\n",
    "        print(e, '3')\n",
    "#         continue\n",
    "    \n",
    "    err_list.append(err)\n",
    "\n",
    "print(sum(err_list)/len(err_list))"
   ]
  }
 ],
 "metadata": {
  "kernelspec": {
   "display_name": "Python 3",
   "language": "python",
   "name": "python3"
  },
  "language_info": {
   "codemirror_mode": {
    "name": "ipython",
    "version": 3
   },
   "file_extension": ".py",
   "mimetype": "text/x-python",
   "name": "python",
   "nbconvert_exporter": "python",
   "pygments_lexer": "ipython3",
   "version": "3.5.2"
  }
 },
 "nbformat": 4,
 "nbformat_minor": 2
}
