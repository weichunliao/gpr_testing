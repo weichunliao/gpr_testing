{
 "cells": [
  {
   "cell_type": "code",
   "execution_count": 1,
   "metadata": {},
   "outputs": [
    {
     "name": "stdout",
     "output_type": "stream",
     "text": [
      "Automatically created module for IPython interactive environment\n"
     ]
    }
   ],
   "source": [
    "print(__doc__)\n",
    "\n",
    "# Author: Vincent Dubourg <vincent.dubourg@gmail.com>\n",
    "#         Jake Vanderplas <vanderplas@astro.washington.edu>\n",
    "#         Jan Hendrik Metzen <jhm@informatik.uni-bremen.de>s\n",
    "# License: BSD 3 clause\n",
    "\n",
    "import numpy as np\n",
    "from matplotlib import pyplot as plt\n",
    "\n",
    "from sklearn.gaussian_process import GaussianProcessRegressor\n",
    "from sklearn.gaussian_process.kernels import RBF, ConstantKernel as C\n",
    "\n",
    "np.random.seed(1)\n",
    "\n",
    "\n",
    "def f(x):\n",
    "    \"\"\"The function to predict.\"\"\"\n",
    "    return x * np.sin(x)\n"
   ]
  },
  {
   "cell_type": "code",
   "execution_count": 3,
   "metadata": {},
   "outputs": [
    {
     "data": {
      "text/plain": [
       "array([[ 1.],\n",
       "       [ 3.],\n",
       "       [ 5.],\n",
       "       [ 6.],\n",
       "       [ 7.],\n",
       "       [ 8.]])"
      ]
     },
     "execution_count": 3,
     "metadata": {},
     "output_type": "execute_result"
    }
   ],
   "source": [
    "# ----------------------------------------------------------------------\n",
    "#  First the noiseless case\n",
    "X = np.atleast_2d([1., 3., 5., 6., 7., 8.]).T\n",
    "X"
   ]
  },
  {
   "cell_type": "code",
   "execution_count": 5,
   "metadata": {},
   "outputs": [
    {
     "data": {
      "text/plain": [
       "array([ 0.84147098,  0.42336002, -4.79462137, -1.67649299,  4.59890619,\n",
       "        7.91486597])"
      ]
     },
     "execution_count": 5,
     "metadata": {},
     "output_type": "execute_result"
    }
   ],
   "source": [
    "# Observations\n",
    "y = f(X).ravel()\n",
    "y"
   ]
  },
  {
   "cell_type": "code",
   "execution_count": 9,
   "metadata": {},
   "outputs": [],
   "source": [
    "# Mesh the input space for evaluations of the real function, the prediction and\n",
    "# its MSE\n",
    "x = np.atleast_2d(np.linspace(0, 10, 1000)).T\n"
   ]
  },
  {
   "cell_type": "code",
   "execution_count": 11,
   "metadata": {},
   "outputs": [
    {
     "data": {
      "text/plain": [
       "GaussianProcessRegressor(alpha=1e-10, copy_X_train=True,\n",
       "             kernel=1**2 * RBF(length_scale=10), n_restarts_optimizer=9,\n",
       "             normalize_y=False, optimizer='fmin_l_bfgs_b',\n",
       "             random_state=None)"
      ]
     },
     "execution_count": 11,
     "metadata": {},
     "output_type": "execute_result"
    }
   ],
   "source": [
    "\n",
    "# Instanciate a Gaussian Process model\n",
    "kernel = C(1.0, (1e-3, 1e3)) * RBF(10, (1e-2, 1e2))\n",
    "gp = GaussianProcessRegressor(kernel=kernel, n_restarts_optimizer=9)\n",
    "gp"
   ]
  },
  {
   "cell_type": "code",
   "execution_count": 25,
   "metadata": {},
   "outputs": [
    {
     "data": {
      "text/plain": [
       "[Hyperparameter(name='k1__constant_value', value_type='numeric', bounds=array([[  1.00000000e-03,   1.00000000e+03]]), n_elements=1, fixed=False),\n",
       " Hyperparameter(name='k2__length_scale', value_type='numeric', bounds=array([[  1.00000000e-02,   1.00000000e+02]]), n_elements=1, fixed=False)]"
      ]
     },
     "execution_count": 25,
     "metadata": {},
     "output_type": "execute_result"
    }
   ],
   "source": [
    "dir(gp.kernel_)\n",
    "gp.kernel_.hyperparameters"
   ]
  },
  {
   "cell_type": "code",
   "execution_count": 12,
   "metadata": {},
   "outputs": [
    {
     "data": {
      "text/plain": [
       "GaussianProcessRegressor(alpha=1e-10, copy_X_train=True,\n",
       "             kernel=1**2 * RBF(length_scale=10), n_restarts_optimizer=9,\n",
       "             normalize_y=False, optimizer='fmin_l_bfgs_b',\n",
       "             random_state=None)"
      ]
     },
     "execution_count": 12,
     "metadata": {},
     "output_type": "execute_result"
    }
   ],
   "source": [
    "# Fit to data using Maximum Likelihood Estimation of the parameters\n",
    "gp.fit(X, y)\n"
   ]
  },
  {
   "cell_type": "code",
   "execution_count": 13,
   "metadata": {},
   "outputs": [],
   "source": [
    "# Make the prediction on the meshed x-axis (ask for MSE as well)\n",
    "y_pred, sigma = gp.predict(x, return_std=True)\n"
   ]
  },
  {
   "cell_type": "code",
   "execution_count": 19,
   "metadata": {},
   "outputs": [
    {
     "data": {
      "text/plain": [
       "array([ 1.14093179,  1.12392737,  1.10819961,  1.09379185,  1.0807423 ,\n",
       "        1.06908325,  1.05884031,  1.05003178,  1.04266805,  1.03675117,\n",
       "        1.03227461,  1.02922317,  1.02757308,  1.02729227,  1.02834082,\n",
       "        1.0306716 ,  1.03423097,  1.03895961,  1.04479343,  1.05166447,\n",
       "        1.05950181,  1.06823247,  1.07778221,  1.08807635,  1.09904038,\n",
       "        1.11060063,  1.12268473,  1.13522207,  1.14814412,  1.16138472,\n",
       "        1.17488026,  1.18856985,  1.20239541,  1.2163017 ,  1.23023635,\n",
       "        1.24414988,  1.2579956 ,  1.27172963,  1.28531077,  1.29870047,\n",
       "        1.31186275,  1.32476409,  1.33737336,  1.34966176,  1.36160269,\n",
       "        1.37317171,  1.38434643,  1.39510648,  1.40543338,  1.41531052,\n",
       "        1.4247231 ,  1.43365801,  1.44210385,  1.45005084,  1.45749075,\n",
       "        1.46441689,  1.47082407,  1.47670853,  1.4820679 ,  1.48690121,\n",
       "        1.49120878,  1.49499228,  1.4982546 ,  1.50099991,  1.50323355,\n",
       "        1.50496206,  1.50619312,  1.50693554,  1.50719921,  1.50699507,\n",
       "        1.50633513,  1.50523237,  1.50370073,  1.50175512,  1.49941133,\n",
       "        1.49668602,  1.49359667,  1.49016157,  1.48639972,  1.48233085,\n",
       "        1.47797533,  1.47335412,  1.46848874,  1.46340118,  1.45811388,\n",
       "        1.45264962,  1.44703147,  1.44128274,  1.43542685,  1.42948731,\n",
       "        1.42348759,  1.41745105,  1.41140084,  1.40535983,  1.39935047,\n",
       "        1.39339474,  1.38751401,  1.38172895,  1.37605943,  1.37052441,\n",
       "        1.36514187,  1.35992865,  1.35490041,  1.35007154,  1.34545503,\n",
       "        1.34106242,  1.33690373,  1.33298739,  1.32932018,  1.32590722,\n",
       "        1.32275189,  1.31985583,  1.31721893,  1.31483936,  1.31271352,\n",
       "        1.31083612,  1.30920021,  1.30779721,  1.30661699,  1.30564791,\n",
       "        1.30487695,  1.30428975,  1.30387071,  1.30360311,  1.30346921,\n",
       "        1.30345034,  1.30352702,  1.30367908,  1.30388577,  1.30412585,\n",
       "        1.30437773,  1.30461956,  1.30482936,  1.30498506,  1.30506468,\n",
       "        1.30504637,  1.3049085 ,  1.30462978,  1.3041893 ,  1.30356662,\n",
       "        1.30274185,  1.30169569,  1.30040949,  1.29886535,  1.29704609,\n",
       "        1.29493537,  1.29251768,  1.2897784 ,  1.28670383,  1.28328119,\n",
       "        1.27949869,  1.27534552,  1.27081187,  1.26588896,  1.26056904,\n",
       "        1.25484539,  1.24871236,  1.24216534,  1.23520079,  1.2278162 ,\n",
       "        1.22001016,  1.21178229,  1.20313326,  1.19406481,  1.1845797 ,\n",
       "        1.17468172,  1.16437572,  1.15366754,  1.14256404,  1.13107307,\n",
       "        1.11920348,  1.10696508,  1.09436867,  1.08142598,  1.06814969,\n",
       "        1.05455341,  1.04065167,  1.0264599 ,  1.01199444,  0.99727247,\n",
       "        0.9823121 ,  0.96713224,  0.95175268,  0.93619403,  0.92047774,\n",
       "        0.90462606,  0.88866203,  0.8726095 ,  0.85649307,  0.84033812,\n",
       "        0.82417077,  0.80801785,  0.79190691,  0.77586616,  0.75992449,\n",
       "        0.74411137,  0.72845683,  0.71299144,  0.6977462 ,  0.68275247,\n",
       "        0.66804187,  0.6536462 ,  0.63959727,  0.62592675,  0.61266599,\n",
       "        0.5998458 ,  0.58749624,  0.57564632,  0.56432374,  0.55355453,\n",
       "        0.54336278,  0.53377022,  0.52479592,  0.51645593,  0.50876293,\n",
       "        0.50172601,  0.49535033,  0.48963701,  0.48458299,  0.48018098,\n",
       "        0.47641956,  0.4732833 ,  0.47075298,  0.4688059 ,  0.46741631,\n",
       "        0.46655575,  0.4661936 ,  0.46629753,  0.46683399,  0.46776871,\n",
       "        0.46906717,  0.470695  ,  0.47261836,  0.47480433,  0.47722114,\n",
       "        0.47983845,  0.48262754,  0.48556144,  0.48861507,  0.49176527,\n",
       "        0.49499089,  0.49827277,  0.50159371,  0.50493849,  0.50829377,\n",
       "        0.51164805,  0.5149916 ,  0.51831637,  0.52161588,  0.52488516,\n",
       "        0.52812063,  0.53131999,  0.53448215,  0.53760706,  0.54069569,\n",
       "        0.54374983,  0.54677207,  0.54976562,  0.55273426,  0.55568219,\n",
       "        0.55861399,  0.56153444,  0.56444851,  0.5673612 ,  0.57027747,\n",
       "        0.57320218,  0.57613997,  0.57909522,  0.58207196,  0.58507382,\n",
       "        0.58810394,  0.59116495,  0.59425895,  0.5973874 ,  0.60055116,\n",
       "        0.60375044,  0.60698477,  0.61025303,  0.61355341,  0.61688346,\n",
       "        0.62024005,  0.62361944,  0.62701727,  0.63042861,  0.63384798,\n",
       "        0.63726938,  0.64068638,  0.6440921 ,  0.64747929,  0.65084039,\n",
       "        0.65416755,  0.6574527 ,  0.6606876 ,  0.66386388,  0.6669731 ,\n",
       "        0.67000679,  0.67295649,  0.67581384,  0.67857056,  0.68121853,\n",
       "        0.68374983,  0.68615676,  0.68843188,  0.69056806,  0.69255848,\n",
       "        0.69439667,  0.69607654,  0.69759239,  0.69893893,  0.7001113 ,\n",
       "        0.70110507,  0.70191629,  0.70254143,  0.70297745,  0.70322175,\n",
       "        0.70327221,  0.70312717,  0.70278543,  0.70224623,  0.70150927,\n",
       "        0.70057466,  0.69944294,  0.69811507,  0.69659236,  0.69487653,\n",
       "        0.69296963,  0.69087406,  0.6885925 ,  0.68612796,  0.68348367,\n",
       "        0.68066314,  0.67767006,  0.67450834,  0.67118203,  0.66769533,\n",
       "        0.66405254,  0.66025805,  0.65631632,  0.65223181,  0.64800902,\n",
       "        0.64365241,  0.63916641,  0.63455537,  0.62982357,  0.62497518,\n",
       "        0.62001423,  0.61494462,  0.60977009,  0.60449421,  0.59912036,\n",
       "        0.59365172,  0.58809128,  0.58244183,  0.57670593,  0.57088595,\n",
       "        0.56498405,  0.55900217,  0.55294206,  0.5468053 ,  0.54059326,\n",
       "        0.53430718,  0.52794812,  0.52151702,  0.51501472,  0.50844195,\n",
       "        0.50179937,  0.4950876 ,  0.48830724,  0.48145889,  0.47454317,\n",
       "        0.46756078,  0.4605125 ,  0.4533992 ,  0.44622193,  0.4389819 ,\n",
       "        0.43168049,  0.42431936,  0.4169004 ,  0.40942577,  0.40189797,\n",
       "        0.39431982,  0.38669452,  0.37902564,  0.37131717,  0.36357355,\n",
       "        0.35579966,  0.34800088,  0.34018307,  0.33235263,  0.32451649,\n",
       "        0.31668215,  0.30885769,  0.30105177,  0.29327369,  0.28553334,\n",
       "        0.27784126,  0.27020866,  0.26264737,  0.25516991,  0.24778943,\n",
       "        0.24051975,  0.23337531,  0.22637116,  0.21952291,  0.21284667,\n",
       "        0.20635898,  0.20007668,  0.19401679,  0.18819633,  0.18263212,\n",
       "        0.17734049,  0.17233698,  0.16763605,  0.16325063,  0.15919174,\n",
       "        0.15546808,  0.15208561,  0.14904719,  0.14635226,  0.14399665,\n",
       "        0.14197244,  0.14026802,  0.13886825,  0.13775473,  0.13690624,\n",
       "        0.1362992 ,  0.13590823,  0.1357067 ,  0.13566732,  0.13576265,\n",
       "        0.13596557,  0.1362497 ,  0.1365897 ,  0.13696159,  0.13734293,\n",
       "        0.13771293,  0.13805261,  0.13834477,  0.13857409,  0.13872706,\n",
       "        0.138792  ,  0.13875898,  0.13861982,  0.13836801,  0.13799869,\n",
       "        0.13750856,  0.13689586,  0.13616033,  0.13530315,  0.13432691,\n",
       "        0.13323558,  0.13203448,  0.13073024,  0.12933079,  0.1278453 ,\n",
       "        0.12628419,  0.12465909,  0.12298276,  0.12126908,  0.11953297,\n",
       "        0.11779033,  0.11605788,  0.11435309,  0.11269395,  0.11109883,\n",
       "        0.10958615,  0.10817418,  0.10688064,  0.10572234,  0.10471483,\n",
       "        0.10387195,  0.10320546,  0.10272467,  0.10243615,  0.1023435 ,\n",
       "        0.1024472 ,  0.10274465,  0.10323019,  0.10389533,  0.10472904,\n",
       "        0.10571807,  0.10684736,  0.1081004 ,  0.10945972,  0.11090719,\n",
       "        0.1124244 ,  0.11399297,  0.11559484,  0.11721243,  0.1188289 ,\n",
       "        0.12042823,  0.12199535,  0.12351626,  0.12497805,  0.12636899,\n",
       "        0.12767854,  0.12889739,  0.13001748,  0.13103204,  0.13193559,\n",
       "        0.13272395,  0.1333943 ,  0.13394516,  0.13437645,  0.13468952,\n",
       "        0.13488714,  0.13497359,  0.13495465,  0.13483768,  0.13463162,\n",
       "        0.13434706,  0.13399621,  0.13359298,  0.13315296,  0.13269337,\n",
       "        0.13223307,  0.13179243,  0.13139326,  0.13105859,  0.13081248,\n",
       "        0.13067972,  0.13068548,  0.13085491,  0.13121267,  0.13178246,\n",
       "        0.13258646,  0.13364489,  0.13497548,  0.13659311,  0.13850951,\n",
       "        0.14073302,  0.14326854,  0.14611756,  0.14927834,  0.1527461 ,\n",
       "        0.1565134 ,  0.16057044,  0.16490549,  0.16950526,  0.17435523,\n",
       "        0.17944006,  0.18474381,  0.19025028,  0.19594316,  0.20180626,\n",
       "        0.20782363,  0.21397968,  0.22025929,  0.22664781,  0.23313118,\n",
       "        0.23969594,  0.24632919,  0.25301869,  0.25975278,  0.26652043,\n",
       "        0.27331121,  0.28011526,  0.28692332,  0.29372666,  0.3005171 ,\n",
       "        0.30728696,  0.31402907,  0.32073674,  0.32740372,  0.33402417,\n",
       "        0.3405927 ,  0.34710427,  0.3535542 ,  0.35993815,  0.3662521 ,\n",
       "        0.3724923 ,  0.37865525,  0.38473771,  0.39073663,  0.39664916,\n",
       "        0.4024726 ,  0.40820438,  0.41384206,  0.41938328,  0.42482574,\n",
       "        0.43016719,  0.4354054 ,  0.44053816,  0.44556322,  0.45047832,\n",
       "        0.45528113,  0.45996928,  0.4645403 ,  0.46899166,  0.47332071,\n",
       "        0.47752472,  0.48160084,  0.48554609,  0.48935741,  0.4930316 ,\n",
       "        0.49656536,  0.49995528,  0.50319786,  0.50628947,  0.50922643,\n",
       "        0.51200499,  0.51462131,  0.51707152,  0.51935173,  0.52145802,\n",
       "        0.52338648,  0.52513322,  0.5266944 ,  0.52806624,  0.52924504,\n",
       "        0.53022723,  0.53100933,  0.53158806,  0.53196027,  0.53212303,\n",
       "        0.53207363,  0.5318096 ,  0.53132871,  0.53062904,  0.52970898,\n",
       "        0.52856722,  0.5272028 ,  0.52561513,  0.52380399,  0.52176956,\n",
       "        0.51951244,  0.51703362,  0.51433457,  0.51141716,  0.50828377,\n",
       "        0.5049372 ,  0.50138074,  0.49761818,  0.49365375,  0.48949222,\n",
       "        0.4851388 ,  0.48059921,  0.47587965,  0.47098681,  0.46592785,\n",
       "        0.4607104 ,  0.45534255,  0.44983284,  0.44419026,  0.43842421,\n",
       "        0.43254451,  0.42656135,  0.42048532,  0.41432732,  0.40809861,\n",
       "        0.40181071,  0.39547543,  0.38910479,  0.38271102,  0.37630649,\n",
       "        0.3699037 ,  0.36351521,  0.3571536 ,  0.35083139,  0.34456105,\n",
       "        0.33835486,  0.3322249 ,  0.32618296,  0.32024048,  0.31440845,\n",
       "        0.30869737,  0.30311715,  0.29767703,  0.29238551,  0.28725027,\n",
       "        0.2822781 ,  0.27747481,  0.27284522,  0.26839304,  0.26412088,\n",
       "        0.2600302 ,  0.25612126,  0.2523932 ,  0.24884396,  0.24547036,\n",
       "        0.24226814,  0.23923202,  0.23635578,  0.23363232,  0.23105382,\n",
       "        0.22861179,  0.22629724,  0.22410077,  0.22201272,  0.22002327,\n",
       "        0.21812259,  0.21630093,  0.21454876,  0.21285686,  0.21121641,\n",
       "        0.20961906,  0.20805705,  0.20652322,  0.20501109,  0.20351488,\n",
       "        0.20202955,  0.20055082,  0.19907518,  0.19759987,  0.19612289,\n",
       "        0.19464297,  0.19315957,  0.19167278,  0.19018338,  0.1886927 ,\n",
       "        0.18720263,  0.18571554,  0.18423421,  0.18276178,  0.18130168,\n",
       "        0.17985755,  0.17843317,  0.17703238,  0.17565899,  0.17431674,\n",
       "        0.1730092 ,  0.17173967,  0.17051116,  0.16932628,  0.16818724,\n",
       "        0.16709571,  0.16605285,  0.16505924,  0.16411487,  0.16321911,\n",
       "        0.16237071,  0.1615678 ,  0.16080795,  0.16008812,  0.15940477,\n",
       "        0.15875388,  0.15813099,  0.15753127,  0.15694961,  0.15638066,\n",
       "        0.15581891,  0.15525877,  0.15469464,  0.15412101,  0.15353249,\n",
       "        0.1529239 ,  0.15229034,  0.15162727,  0.15093053,  0.15019641,\n",
       "        0.14942174,  0.14860386,  0.14774074,  0.14683097,  0.14587378,\n",
       "        0.14486913,  0.14381766,  0.14272077,  0.14158057,  0.14039996,\n",
       "        0.13918257,  0.13793278,  0.13665571,  0.13535722,  0.13404383,\n",
       "        0.13272277,  0.13140184,  0.13008942,  0.12879439,  0.12752603,\n",
       "        0.12629394,  0.12510792,  0.12397788,  0.12291367,  0.12192493,\n",
       "        0.12102095,  0.12021054,  0.11950177,  0.11890192,  0.11841723,\n",
       "        0.11805284,  0.11781259,  0.11769902,  0.11771322,  0.11785486,\n",
       "        0.11812217,  0.11851199,  0.11901983,  0.11964   ,  0.12036572,\n",
       "        0.12118923,  0.12210205,  0.12309503,  0.12415858,  0.12528285,\n",
       "        0.12645784,  0.12767356,  0.12892018,  0.13018817,  0.13146836,\n",
       "        0.13275205,  0.13403112,  0.13529806,  0.13654607,  0.13776906,\n",
       "        0.13896171,  0.14011949,  0.14123871,  0.14231647,  0.14335073,\n",
       "        0.14434026,  0.14528464,  0.14618426,  0.1470403 ,  0.14785468,\n",
       "        0.14863002,  0.14936962,  0.15007741,  0.15075786,  0.15141596,\n",
       "        0.15205709,  0.152687  ,  0.1533117 ,  0.15393733,  0.15457013,\n",
       "        0.15521628,  0.15588182,  0.15657253,  0.15729386,  0.15805075,\n",
       "        0.15884761,  0.15968817,  0.16057542,  0.16151156,  0.16249786,\n",
       "        0.1635347 ,  0.1646215 ,  0.16575669,  0.16693775,  0.16816118,\n",
       "        0.16942257,  0.17071665,  0.1720373 ,  0.17337768,  0.17473029,\n",
       "        0.17608706,  0.17743944,  0.17877855,  0.18009522,  0.18138016,\n",
       "        0.18262406,  0.18381768,  0.18495203,  0.18601841,  0.18700861,\n",
       "        0.18791498,  0.18873057,  0.18944928,  0.19006594,  0.19057649,\n",
       "        0.1909781 ,  0.19126932,  0.1914502 ,  0.19152249,  0.19148976,\n",
       "        0.19135758,  0.19113368,  0.19082814,  0.19045355,  0.19002515,\n",
       "        0.18956102,  0.18908218,  0.18861271,  0.1881798 ,  0.18781375,\n",
       "        0.18754786,  0.18741833,  0.18746388,  0.18772537,  0.18824527,\n",
       "        0.18906691,  0.19023368,  0.19178808,  0.19377073,  0.19621939,\n",
       "        0.19916793,  0.20264554,  0.20667605,  0.21127745,  0.21646167,\n",
       "        0.22223458,  0.22859626,  0.23554135,  0.24305961,  0.25113653,\n",
       "        0.25975396,  0.26889075,  0.27852337,  0.2886264 ,  0.29917301,\n",
       "        0.31013539,  0.32148503,  0.33319301,  0.34523018,  0.35756734,\n",
       "        0.37017532,  0.3830251 ,  0.39608786,  0.409335  ,  0.42273818,\n",
       "        0.43626936,  0.44990075,  0.46360489,  0.47735457,  0.49112291,\n",
       "        0.50488333,  0.51860952,  0.53227552,  0.54585565,  0.55932455,\n",
       "        0.57265722,  0.58582898,  0.59881552,  0.61159288,  0.62413752,\n",
       "        0.63642629,  0.64843649,  0.66014584,  0.67153258,  0.68257543,\n",
       "        0.69325362,  0.70354698,  0.71343588,  0.72290134,  0.73192499,\n",
       "        0.74048917,  0.74857691,  0.75617197,  0.76325892,  0.76982311,\n",
       "        0.77585075,  0.78132895,  0.78624573,  0.79059009,  0.79435204,\n",
       "        0.79752266,  0.80009413,  0.80205978,  0.80341418,  0.80415316,\n",
       "        0.80427389,  0.80377495,  0.80265639,  0.80091984,  0.79856857,\n",
       "        0.79560759,  0.79204378,  0.78788596,  0.78314509,  0.77783433,\n",
       "        0.77196927,  0.76556806,  0.75865163,  0.75124388,  0.74337194,\n",
       "        0.73506641,  0.72636167,  0.71729617,  0.70791276,  0.69825907,\n",
       "        0.68838787,  0.67835748,  0.66823213,  0.65808238,  0.64798546,\n",
       "        0.63802553,  0.62829391,  0.61888915,  0.60991685,  0.60148932,\n",
       "        0.59372488,  0.58674676,  0.58068162,  0.57565759,  0.57180187,\n",
       "        0.56923789,  0.56808226,  0.56844154,  0.57040913,  0.57406247,\n",
       "        0.57946089,  0.58664413,  0.59563184,  0.60642391,  0.61900171,\n",
       "        0.63332994,  0.64935903,  0.66702772,  0.68626576,  0.70699648])"
      ]
     },
     "execution_count": 19,
     "metadata": {},
     "output_type": "execute_result"
    }
   ],
   "source": [
    "sigma"
   ]
  },
  {
   "cell_type": "code",
   "execution_count": 14,
   "metadata": {},
   "outputs": [
    {
     "data": {
      "text/plain": [
       "<matplotlib.legend.Legend at 0x7faa41781da0>"
      ]
     },
     "execution_count": 14,
     "metadata": {},
     "output_type": "execute_result"
    }
   ],
   "source": [
    "\n",
    "\n",
    "# Plot the function, the prediction and the 95% confidence interval based on\n",
    "# the MSE\n",
    "fig = plt.figure()\n",
    "plt.plot(x, f(x), 'r:', label=u'$f(x) = x\\,\\sin(x)$')\n",
    "plt.plot(X, y, 'r.', markersize=10, label=u'Observations')\n",
    "plt.plot(x, y_pred, 'b-', label=u'Prediction')\n",
    "plt.fill(np.concatenate([x, x[::-1]]),\n",
    "         np.concatenate([y_pred - 1.9600 * sigma,\n",
    "                        (y_pred + 1.9600 * sigma)[::-1]]),\n",
    "         alpha=.5, fc='b', ec='None', label='95% confidence interval')\n",
    "plt.xlabel('$x$')\n",
    "plt.ylabel('$f(x)$')\n",
    "plt.ylim(-10, 20)\n",
    "plt.legend(loc='upper left')\n"
   ]
  },
  {
   "cell_type": "code",
   "execution_count": 15,
   "metadata": {},
   "outputs": [
    {
     "data": {
      "image/png": "[encoded data removed]",
      "text/plain": [
       "<matplotlib.figure.Figure at 0x7faa437bdac8>"
      ]
     },
     "metadata": {},
     "output_type": "display_data"
    },
    {
     "data": {
      "image/png": "[encoded data removed]",
      "text/plain": [
       "<matplotlib.figure.Figure at 0x7faa746146d8>"
      ]
     },
     "metadata": {},
     "output_type": "display_data"
    }
   ],
   "source": [
    "# ----------------------------------------------------------------------\n",
    "# now the noisy case\n",
    "X = np.linspace(0.1, 9.9, 20)\n",
    "X = np.atleast_2d(X).T\n",
    "\n",
    "# Observations and noise\n",
    "y = f(X).ravel()\n",
    "dy = 0.5 + 1.0 * np.random.random(y.shape)\n",
    "noise = np.random.normal(0, dy)\n",
    "y += noise\n",
    "\n",
    "# Instanciate a Gaussian Process model\n",
    "gp = GaussianProcessRegressor(kernel=kernel, alpha=(dy / y) ** 2,\n",
    "                              n_restarts_optimizer=10)\n",
    "\n",
    "# Fit to data using Maximum Likelihood Estimation of the parameters\n",
    "gp.fit(X, y)\n",
    "\n",
    "# Make the prediction on the meshed x-axis (ask for MSE as well)\n",
    "y_pred, sigma = gp.predict(x, return_std=True)\n",
    "\n",
    "# Plot the function, the prediction and the 95% confidence interval based on\n",
    "# the MSE\n",
    "fig = plt.figure()\n",
    "plt.plot(x, f(x), 'r:', label=u'$f(x) = x\\,\\sin(x)$')\n",
    "plt.errorbar(X.ravel(), y, dy, fmt='r.', markersize=10, label=u'Observations')\n",
    "plt.plot(x, y_pred, 'b-', label=u'Prediction')\n",
    "plt.fill(np.concatenate([x, x[::-1]]),\n",
    "         np.concatenate([y_pred - 1.9600 * sigma,\n",
    "                        (y_pred + 1.9600 * sigma)[::-1]]),\n",
    "         alpha=.5, fc='b', ec='None', label='95% confidence interval')\n",
    "plt.xlabel('$x$')\n",
    "plt.ylabel('$f(x)$')\n",
    "plt.ylim(-10, 20)\n",
    "plt.legend(loc='upper left')\n",
    "\n",
    "plt.show()"
   ]
  },
  {
   "cell_type": "code",
   "execution_count": 28,
   "metadata": {},
   "outputs": [
    {
     "data": {
      "text/plain": [
       "array([  315.42,  1959.  ])"
      ]
     },
     "execution_count": 28,
     "metadata": {},
     "output_type": "execute_result"
    }
   ],
   "source": [
    "from sklearn.datasets import fetch_mldata\n",
    "data = fetch_mldata('mauna-loa-atmospheric-co2').data\n",
    "data[0]"
   ]
  }
 ],
 "metadata": {
  "kernelspec": {
   "display_name": "Python 3",
   "language": "python",
   "name": "python3"
  },
  "language_info": {
   "codemirror_mode": {
    "name": "ipython",
    "version": 3
   },
   "file_extension": ".py",
   "mimetype": "text/x-python",
   "name": "python",
   "nbconvert_exporter": "python",
   "pygments_lexer": "ipython3",
   "version": "3.5.2"
  }
 },
 "nbformat": 4,
 "nbformat_minor": 2
}
