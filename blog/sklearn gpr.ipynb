{
 "cells": [
  {
   "cell_type": "code",
   "execution_count": 1,
   "metadata": {},
   "outputs": [],
   "source": [
    "import numpy as np\n",
    "import csv\n",
    "from matplotlib import pyplot as plt\n",
    "\n",
    "from sklearn.gaussian_process import GaussianProcessRegressor\n",
    "from sklearn.gaussian_process.kernels import RBF, ConstantKernel as C\n"
   ]
  },
  {
   "cell_type": "code",
   "execution_count": 2,
   "metadata": {},
   "outputs": [],
   "source": [
    "fname = '/home/chun/Desktop/gpr_testing/blog/BlogFeedback-Train2.csv'\n",
    "\n",
    "data = np.loadtxt(open(fname, \"rb\"), delimiter=\",\", skiprows=1)"
   ]
  },
  {
   "cell_type": "code",
   "execution_count": 7,
   "metadata": {},
   "outputs": [],
   "source": [
    "#  First the noiseless case\n",
    "X = data[:, :-1]\n",
    "\n",
    "# Observations\n",
    "y = data[:, -1]"
   ]
  },
  {
   "cell_type": "code",
   "execution_count": 8,
   "metadata": {},
   "outputs": [],
   "source": [
    "t_fname = '/home/chun/Desktop/gpr_testing/blog/BlogFeedback-Test2.csv'\n",
    "\n",
    "t_data = np.loadtxt(open(t_fname, \"rb\"), delimiter=\",\", skiprows=1)\n",
    "x_test = t_data[:,:-1]\n",
    "y_test = t_data[:, -1]"
   ]
  },
  {
   "cell_type": "code",
   "execution_count": null,
   "metadata": {},
   "outputs": [],
   "source": [
    "# Instanciate a Gaussian Process model\n",
    "kernel = C(1.0, (1e-3, 1e3)) * RBF(10, (1e-2, 1e2))\n",
    "gp = GaussianProcessRegressor(kernel=kernel, n_restarts_optimizer=9)\n",
    "\n",
    "# Fit to data using Maximum Likelihood Estimation of the parameters\n",
    "gp.fit(X, y)\n",
    "\n",
    "# Make the prediction on the meshed x-axis (ask for MSE as well)\n",
    "y_pred, sigma = gp.predict(x, return_std=True)"
   ]
  },
  {
   "cell_type": "code",
   "execution_count": null,
   "metadata": {},
   "outputs": [],
   "source": []
  },
  {
   "cell_type": "code",
   "execution_count": 6,
   "metadata": {},
   "outputs": [
    {
     "name": "stdout",
     "output_type": "stream",
     "text": [
      "[1, 2, 3]\n"
     ]
    }
   ],
   "source": [
    "num = [1,2,3,4]\n",
    "print(num[:-1])"
   ]
  },
  {
   "cell_type": "code",
   "execution_count": 5,
   "metadata": {},
   "outputs": [
    {
     "data": {
      "text/plain": [
       "array([[ 40.30467 ,  53.845657,   0.      , ...,   0.      ,   0.      ,\n",
       "          0.      ],\n",
       "       [ 40.30467 ,  53.845657,   0.      , ...,   0.      ,   0.      ,\n",
       "          0.      ],\n",
       "       [ 40.30467 ,  53.845657,   0.      , ...,   0.      ,   0.      ,\n",
       "          0.      ],\n",
       "       ..., \n",
       "       [ 40.30467 ,  53.845657,   0.      , ...,   0.      ,   0.      ,\n",
       "          0.      ],\n",
       "       [ 40.30467 ,  53.845657,   0.      , ...,   0.      ,   0.      ,\n",
       "          0.      ],\n",
       "       [ 40.30467 ,  53.845657,   0.      , ...,   0.      ,   0.      ,\n",
       "          0.      ]])"
      ]
     },
     "execution_count": 5,
     "metadata": {},
     "output_type": "execute_result"
    }
   ],
   "source": [
    "data[0:10,:-1]"
   ]
  }
 ],
 "metadata": {
  "kernelspec": {
   "display_name": "Python 3",
   "language": "python",
   "name": "python3"
  },
  "language_info": {
   "codemirror_mode": {
    "name": "ipython",
    "version": 3
   },
   "file_extension": ".py",
   "mimetype": "text/x-python",
   "name": "python",
   "nbconvert_exporter": "python",
   "pygments_lexer": "ipython3",
   "version": "3.5.2"
  }
 },
 "nbformat": 4,
 "nbformat_minor": 2
}
